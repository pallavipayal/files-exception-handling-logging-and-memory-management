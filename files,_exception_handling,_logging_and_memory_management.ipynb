{
  "nbformat": 4,
  "nbformat_minor": 0,
  "metadata": {
    "colab": {
      "provenance": []
    },
    "kernelspec": {
      "name": "python3",
      "display_name": "Python 3"
    },
    "language_info": {
      "name": "python"
    }
  },
  "cells": [
    {
      "cell_type": "markdown",
      "source": [
        "#files, exceptional handling, logging and memory management Questions"
      ],
      "metadata": {
        "id": "yCNp-ShJxMTI"
      }
    },
    {
      "cell_type": "markdown",
      "source": [
        "\n",
        "\n",
        "###1.   What is the defference between iterpreted and compiled languages?\n",
        "\n"
      ],
      "metadata": {
        "id": "bIMWiBzqxMJ2"
      }
    },
    {
      "cell_type": "markdown",
      "source": [
        "=> Interpreted language:\n",
        "   \n",
        "\n",
        "*   the source code isexecuted line by line an interpreted lannguage.\n",
        "*   No separated compilition step is requred;however, execution tends to be slower because translation happens on the runtime.\n",
        "*   easierer to debug and modify since change take effect immediately.\n",
        "\n",
        "compiler language:\n",
        "\n",
        "\n",
        "*   The source code is translated into machin code by a compiler before execution.\n",
        "*   The resulting executable file runs directly on thecomputer's hardware without needing the original source code.\n",
        "\n"
      ],
      "metadata": {
        "id": "NNYHKnLMxQ12"
      }
    },
    {
      "cell_type": "markdown",
      "source": [
        "\n",
        "\n",
        "###2.  What is exception handiling in python?"
      ],
      "metadata": {
        "id": "4ghVjnL04pXI"
      }
    },
    {
      "cell_type": "markdown",
      "source": [
        "=> Exception Handling in Python refers to managing errors or exceptions that occur during the execution of a program to prevent it from crasing unexpectedly. python provides a structured way to detect, handle, and respond to such rumtime errors."
      ],
      "metadata": {
        "id": "25TnUJhrxQ45"
      }
    },
    {
      "cell_type": "markdown",
      "source": [
        "###3. what is the purpose of the finlly bolck in exception handaling?"
      ],
      "metadata": {
        "id": "rKmdbA0vxQ79"
      }
    },
    {
      "cell_type": "markdown",
      "source": [
        "=> The finally block in exception handling is used to ensured that certain code runs regardless of whether an exception occurs or not it is commanly used for clenup operations, such as closing files, releasing reasoures, or disconnecting from a databse.\n"
      ],
      "metadata": {
        "id": "oemAd-cYxQ-i"
      }
    },
    {
      "cell_type": "markdown",
      "source": [
        "###4. what is logging in python"
      ],
      "metadata": {
        "id": "M2lwQj_KxRB0"
      }
    },
    {
      "cell_type": "markdown",
      "source": [
        "=> logging in python is a built-in module that allows devlopers to track events that happen while program runs. it helps in debugging, monitoring, and maintaining applications by recoding messages to various output destination like the console, files, or external logging services."
      ],
      "metadata": {
        "id": "NK4Mv2_JxRFR"
      }
    },
    {
      "cell_type": "markdown",
      "source": [
        "###5. what is the significient of the _ del_ method in python ?"
      ],
      "metadata": {
        "id": "JPIHtlWgxLoB"
      }
    },
    {
      "cell_type": "markdown",
      "source": [
        "=> the _ del_ method in python is used to delet objects, variable, list element, dictionary key,or even class instanses. it helps manage memory by removing refernces to object, allowing python garbage collector to free up space."
      ],
      "metadata": {
        "id": "Jz8vfcKKYTln"
      }
    },
    {
      "cell_type": "markdown",
      "source": [
        "###6.what is the deffernce between import and from...import in python?"
      ],
      "metadata": {
        "id": "Hrr5seTAYTsq"
      }
    },
    {
      "cell_type": "markdown",
      "source": [
        "=> Python, both import and from...import are used to bring modules or specific attributes from modules into your current namespace. However, they differ in how they make those modules or attributes accessible.\n",
        "\n",
        "1. import module_name:\n",
        "\n",
        "This statement imports the entire module specified by module_name.  It creates a namespace for that module.  You then access the module's contents (functions, classes, variables) using the dot notation: module_name.attribute_name.\n",
        "\n",
        "2. from module_name import attribute_name(s):\n",
        "\n",
        "This statement imports specific attributes (functions, classes, variables) directly from the module and makes them available in your current namespace without needing the module name prefix."
      ],
      "metadata": {
        "id": "AkT6oWraYTyQ"
      }
    },
    {
      "cell_type": "markdown",
      "source": [
        "###7.how can you handle multiple exceptions in python?"
      ],
      "metadata": {
        "id": "gfRbjUYDYT3r"
      }
    },
    {
      "cell_type": "markdown",
      "source": [
        "=> in python, you can handle multiple exception using several techniques depending on your use case.\n",
        "\n",
        "\n",
        "*   using a singel except Block with a Tuple\n",
        "*   using multiple except Block\n",
        "\n",
        "*   using a generic except Block\n",
        "*   using else and finally\n",
        "\n",
        "\n"
      ],
      "metadata": {
        "id": "5uYfV_6adMhF"
      }
    },
    {
      "cell_type": "markdown",
      "source": [
        "###8. what is the poupose of the  with statement when handing files in python?"
      ],
      "metadata": {
        "id": "TLymFwA0YT7j"
      }
    },
    {
      "cell_type": "markdown",
      "source": [
        "=> The with statement in Python, when used with file handling (and other context managers), provides a convenient and robust way to manage resources, ensuring they are properly cleaned up even if exceptions occur.  Its primary purpose is to guarantee the proper closing of a file (or other resource) after you're finished with it."
      ],
      "metadata": {
        "id": "AYiobNMhYT_H"
      }
    },
    {
      "cell_type": "markdown",
      "source": [
        "###9. What is the difference between multithreading and multiprocessing?"
      ],
      "metadata": {
        "id": "6TfNUxcuYUCo"
      }
    },
    {
      "cell_type": "markdown",
      "source": [
        "=> Multithreading and multiprocessing are both techniques used to achieve concurrency in Python, allowing you to execute multiple parts of your program seemingly at the same time. However, they differ significantly in how they achieve this concurrency and their suitability for different tasks.\n",
        "\n",
        "Multithreading:\n",
        "\n",
        "Concept: Multithreading involves running multiple threads within a single process.  Think of threads as lightweight sub-processes that share the same memory space and resources of the main process.  They essentially run \"concurrently\" within the same process.\n",
        "\n",
        "How it works: The operating system rapidly switches between the threads, giving the illusion of parallel execution.  However, due to the Global Interpreter Lock (GIL) in CPython (the standard Python implementation), only one thread can actually hold control of the Python interpreter at any given moment.  This means that true parallelism for CPU-bound tasks is not achieved with multithreading in CPython.\n",
        "\n",
        "Multiprocessing:\n",
        "\n",
        "Concept: Multiprocessing involves running multiple processes, each with its own separate memory space and Python interpreter.  This means that they are truly running in parallel, taking advantage of multiple cores on your CPU.\n",
        "\n",
        "How it works: The operating system manages the separate processes.  Each process has its own GIL, so the limitations of the GIL do not apply to multiprocessing.\n",
        "\n",
        "\n"
      ],
      "metadata": {
        "id": "lJf62JK9hYTy"
      }
    },
    {
      "cell_type": "markdown",
      "source": [
        "###10. What are the advantages of using logging in a program?"
      ],
      "metadata": {
        "id": "fIEqgJEBYUGV"
      }
    },
    {
      "cell_type": "markdown",
      "source": [
        "=> Logging provides detailed information about the program's execution, making it much easier to track down errors and understand the program's behavior.\n",
        "\n",
        "  Instead of just relying on print statements, which can be difficult to manage in complex programs, logging allows you to record information at various levels of detail, including variable values, function calls, and timestamps.  This makes it easier to pinpoint the source of bugs and fix them quickly\n",
        "  When exceptions or errors occur, logging allows you to capture crucial information, such as the traceback, error message, and the program's state at the time of the error.\n",
        "\n",
        " This information is invaluable for diagnosing and resolving issues, especially in production environments where you might not have direct access to the running program.  Logs can be stored and analyzed later to identify patterns and recurring errors.\n",
        "\n"
      ],
      "metadata": {
        "id": "9iXZor43rxA9"
      }
    },
    {
      "cell_type": "markdown",
      "source": [
        "###11. What is memory management in Python?"
      ],
      "metadata": {
        "id": "a3XjGCngYUJj"
      }
    },
    {
      "cell_type": "markdown",
      "source": [
        "\n",
        "=> Memory management in Python refers to how the language allocates and deallocates memory for the objects your program creates and uses.  It's a crucial aspect of programming because it directly impacts your program's performance, stability, and resource usage.  Effective memory management prevents memory leaks, improves efficiency, and helps avoid crashes.\n",
        "\n",
        "In Python, memory management is largely handled automatically through a mechanism called garbage collection.\n",
        "\n",
        "   as the programmer, don't usually have to manually allocate or deallocate memory like you might in some other languages (like C or C++).  Python's garbage collector takes care of reclaiming memory that is no longer being used by your program.\n",
        "\n"
      ],
      "metadata": {
        "id": "RlW1c8eorxuj"
      }
    },
    {
      "cell_type": "markdown",
      "source": [
        "###12. What are the basic steps involved in exception handling in Python?"
      ],
      "metadata": {
        "id": "zn2EACXIYUMq"
      }
    },
    {
      "cell_type": "markdown",
      "source": [
        "=> 1.Python executes the code in the try block.\n",
        "\n",
        "\n",
        "2.If an exception occurs:\n",
        "\n",
        "Python searches for a matching except block.\n",
        "\n",
        "If a match is found, the code in that except block is executed.\n",
        "\n",
        "If no match is found, the exception propagates up.\n",
        "\n",
        "3.If no exception occurs:\n",
        "\n",
        "The else block (if present) is executed.\n",
        "\n",
        "The finally block (if present) is always executed, regardless of whether an exception occurred."
      ],
      "metadata": {
        "id": "S2pL40d7YUPw"
      }
    },
    {
      "cell_type": "markdown",
      "source": [
        "###13. Why is memory management important in Python?"
      ],
      "metadata": {
        "id": "dTovdbE_YUTA"
      }
    },
    {
      "cell_type": "markdown",
      "source": [
        "=> effective memory management is essential for writing robust, stable, efficient, and secure programs.  It helps prevent memory leaks, optimize resource utilization, improve performance, and avoid a wide range of potential problems.\n",
        "\n",
        " While Python's automatic garbage collection handles much of the memory management for you, understanding the principles of memory management is still important for writing high-quality code."
      ],
      "metadata": {
        "id": "uoGvIAffrveK"
      }
    },
    {
      "cell_type": "markdown",
      "source": [
        "###14. What is the role of try and except in exception handling?"
      ],
      "metadata": {
        "id": "zEwFBloJYUeJ"
      }
    },
    {
      "cell_type": "markdown",
      "source": [
        "=> The try and except blocks are fundamental to exception handling in Python (and many other programming languages). They provide a structured way to deal with errors or exceptional situations that might occur during the execution of your code.  Instead of your program crashing abruptly when an error occurs, try...except allows you to gracefully handle the error and potentially recover from it."
      ],
      "metadata": {
        "id": "ma2L4lOkrqzX"
      }
    },
    {
      "cell_type": "markdown",
      "source": [
        "###15. How does Python's garbage collection system work?"
      ],
      "metadata": {
        "id": "188d5mW-YUsT"
      }
    },
    {
      "cell_type": "markdown",
      "source": [
        "=> Python's garbage collection system primarily uses a combination of two techniques: reference counting and cyclic garbage collection.\n",
        "Python's garbage collection system is a powerful and mostly automatic way to manage memory.  Understanding how it works can help you write more efficient and robust Python programs."
      ],
      "metadata": {
        "id": "_op5KPQqrNGh"
      }
    },
    {
      "cell_type": "markdown",
      "source": [
        "###16. What is the purpose of the else block in exception handling?"
      ],
      "metadata": {
        "id": "_xwe4HJYYUvd"
      }
    },
    {
      "cell_type": "markdown",
      "source": [
        "=> In Python's exception handling (try...except blocks), the else block provides a way to specify code that should be executed only if no exceptions were raised in the try block.  It's a way to separate the \"happy path\" (when everything goes as expected) from the exception handling logic.\n",
        "\n",
        "The else block is a valuable tool for structuring your exception handling code and making it more readable and maintainable. It helps you clearly separate the normal execution path from the error handling logic, leading to cleaner and more robust code."
      ],
      "metadata": {
        "id": "xWH9p5Gwq1SO"
      }
    },
    {
      "cell_type": "markdown",
      "source": [
        "###17. What are the common logging levels in Python?"
      ],
      "metadata": {
        "id": "ObUlX5L0YUzW"
      }
    },
    {
      "cell_type": "markdown",
      "source": [
        "=> The logging module in Python defines several standard logging levels, each representing a different severity or importance of a log message.  These levels help you categorize your log messages and control which messages are displayed or stored based on their severity.  Here are the common logging levels, in order of increasing severity:\n",
        "\n",
        " DEBUG (Level 10):  This is the lowest level and is used for detailed information, typically useful for debugging purposes.  These messages are usually only relevant when you're actively trying to find and fix a problem.  In production, debug logs are often disabled to avoid excessive output.\n",
        "\n",
        " INFO (Level 20):  This level is used for general information about the program's execution.  These messages describe the normal operation of the program and might include things like program startup/shutdown messages, key events, or status updates.\n",
        "\n",
        "WARNING (Level 30):  This level indicates a potential problem or something that might go wrong.  These messages are not necessarily errors, but they suggest that something unexpected or undesirable has occurred.  For example, a warning might be logged if a file is not found or if a deprecated function is used.\n",
        "\n",
        " ERROR (Level 40):  This level indicates a serious error that has occurred.  These errors usually require some kind of intervention or correction.  For example, an error might be logged if a network connection fails or if a program tries to divide by zero.\n",
        "\n",
        " CRITICAL (Level 50):  This is the highest level and indicates a very serious error that might cause the program to crash or become unusable.  Critical errors often require immediate attention.  For example, a critical error might be logged if a core system component fails or if a security breach is detected.\n",
        "\n"
      ],
      "metadata": {
        "id": "lnIqSPFbqpDB"
      }
    },
    {
      "cell_type": "markdown",
      "source": [
        "###18. What is the difference between os.fork() and multiprocessing in Python?"
      ],
      "metadata": {
        "id": "xeUzh06XYU2Z"
      }
    },
    {
      "cell_type": "markdown",
      "source": [
        "=> os.fork() and the multiprocessing module in Python are both related to creating processes, but they differ significantly in how they work and their behavior, especially across different operating systems.\n",
        "\n",
        "os.fork():\n",
        "\n",
        "How it works: os.fork() creates a new process by duplicating the current process. The new process (the child process) is an almost exact copy of the original process (the parent process), including its memory space, file descriptors, and program counter (where in the code it's currently executing).  Crucially, after the fork() call, both the parent and child processes continue executing from the same point in the code, but they have separate memory spaces.\n",
        "\n",
        "Return value: os.fork() returns 0 in the child process and the child's process ID (PID) in the parent process. This allows the code to differentiate between the parent and child.\n",
        "\n",
        "\n",
        "multiprocessing module:\n",
        "\n",
        "How it works: The multiprocessing module provides a higher-level interface for creating and managing processes. It creates new processes with separate Python interpreters and memory spaces.  It offers more features for inter-process communication (IPC) and process management than os.fork().\n",
        "\n",
        "Return value: The Process class in the multiprocessing module is used to represent a process.  You create a Process object and then call its start() method to actually create and start the new process.  The Process object provides methods for controlling the process (e.g., join(), terminate())."
      ],
      "metadata": {
        "id": "m90RPb-YptBn"
      }
    },
    {
      "cell_type": "markdown",
      "source": [
        "###19.What is the importance of closing a file in Python?"
      ],
      "metadata": {
        "id": "LD8MmsA_jmAL"
      }
    },
    {
      "cell_type": "markdown",
      "source": [
        "=> Closing a file in Python is crucial for several reasons, and it's a practice you should always follow.  It's not just good etiquette; it's essential for the proper functioning of your programs and the integrity of your data."
      ],
      "metadata": {
        "id": "MYAzM1lno8xb"
      }
    },
    {
      "cell_type": "markdown",
      "source": [
        "###20. What is the difference between file.read() and file.readline() in Python?"
      ],
      "metadata": {
        "id": "eCziNEHQjmp9"
      }
    },
    {
      "cell_type": "markdown",
      "source": [
        "=> Both file.read() and file.readline() are used to read data from a file in Python, but they differ in how much data they read at a time and how they handle line endings.\n",
        "\n",
        "file.read():\n",
        "\n",
        "Reads the entire contents of the file as a single string.  If you don't specify a size argument, it will read the whole file into memory.  If you provide a size argument (e.g., file.read(1024)), it will read up to that many bytes.\n",
        "\n",
        "Returns a string.\n",
        "\n",
        "If the end of the file is reached, it returns an empty string (\"\")."
      ],
      "metadata": {
        "id": "uWminENcocMv"
      }
    },
    {
      "cell_type": "markdown",
      "source": [
        "###21. What is the logging module in Python used for?"
      ],
      "metadata": {
        "id": "wGW-6ybcjm8z"
      }
    },
    {
      "cell_type": "markdown",
      "source": [
        "=> The logging module in Python is a powerful and flexible way to add logging capabilities to your programs.  It provides a standardized way to record events, errors, and other information that can be invaluable for debugging, monitoring, and understanding the behavior of your applications.  Instead of just using print() statements, which can be difficult to manage in complex programs, logging offers a structured approach to logging messages at different levels of severity and directing them to various outputs."
      ],
      "metadata": {
        "id": "xUAy_vQtjnBd"
      }
    },
    {
      "cell_type": "markdown",
      "source": [
        "###22.What is the os module in Python used for in file handling?"
      ],
      "metadata": {
        "id": "ChuQfVSPjnFo"
      }
    },
    {
      "cell_type": "markdown",
      "source": [
        "=> The os module in Python provides a way to interact with the operating system. While it doesn't directly handle the contents of files (that's what the open() function and related file objects are for), it offers functions for performing various file-related operations at the operating system level.  Think of it as the module that lets you manage files and directories, rather than reading or writing their data."
      ],
      "metadata": {
        "id": "8oWCOAS9jnJR"
      }
    },
    {
      "cell_type": "markdown",
      "source": [
        "###23. What are the challenges associated with memory management in Python?"
      ],
      "metadata": {
        "id": "BIr2uCDLjnNF"
      }
    },
    {
      "cell_type": "markdown",
      "source": [
        "=> Memory management in Python, while largely automatic, still presents some challenges.\n",
        "\n",
        "  While Python's garbage collector handles most of the work for you, understanding these challenges is crucial for writing efficient and robust code\n",
        "  while Python's automatic memory management simplifies many aspects of memory handling, it's important to be aware of the potential challenges and to use appropriate techniques to manage memory effectively, especially when dealing with complex applications or large datasets.\n",
        "\n"
      ],
      "metadata": {
        "id": "rLwk4bLKjnQW"
      }
    },
    {
      "cell_type": "markdown",
      "source": [
        "###24. How do you raise an exception manually in Python?"
      ],
      "metadata": {
        "id": "0hfl3NQ1jnS-"
      }
    },
    {
      "cell_type": "markdown",
      "source": [
        "=> Choose an appropriate exception class. If a built-in exception class accurately describes the error, use it. Otherwise, define a custom exception class.\n",
        "\n",
        "Include a clear and informative error message.\n",
        "\n",
        "Raise exceptions only when a genuine error condition occurs. Don't use exceptions for normal program flow control.\n",
        "\n",
        "Use try...except blocks to handle exceptions gracefully. This prevents your program from crashing and allows you to take appropriate action when an error occurs.\n",
        "\n",
        "Custom exceptions allow you to define specific error conditions that are relevant to your application. This makes your code more readable and maintainable and allows for more fine-grained error handling.\n",
        "\n"
      ],
      "metadata": {
        "id": "Bo1gI2JgjnWi"
      }
    },
    {
      "cell_type": "markdown",
      "source": [
        "###25. Why is it important to use multithreading in certain applications?"
      ],
      "metadata": {
        "id": "RQYgn6hWkixP"
      }
    },
    {
      "cell_type": "markdown",
      "source": [
        "=> Multithreading is important in certain Python applications because it can significantly improve performance and responsiveness, especially when dealing with tasks that involve waiting for input/output (I/O) operations.\n",
        "multithreading is a valuable tool for improving the performance and responsiveness of I/O-bound Python applications.multithreading is a valuable tool for improving the performance and responsiveness of I/O-bound Python applications.\n",
        "\n",
        "  However, it's important to be aware of the limitations of the GIL and to use proper synchronization techniques to avoid common multithreading issues."
      ],
      "metadata": {
        "id": "vfFq754Rki8D"
      }
    },
    {
      "cell_type": "code",
      "execution_count": null,
      "metadata": {
        "id": "rkj7SWPVxHO5"
      },
      "outputs": [],
      "source": [
        "with open(\"example.txt\", \"w\") as file:\n",
        "    file.write(\"Hello, world!\")"
      ]
    },
    {
      "cell_type": "code",
      "source": [
        "with open(\"example.txt\", \"r\") as file:\n",
        "  for line in file:\n",
        "    print(line, end=\"\")\n"
      ],
      "metadata": {
        "id": "72oGulSduKka",
        "colab": {
          "base_uri": "https://localhost:8080/"
        },
        "outputId": "83b4af9a-788a-4099-ae51-7ddec4e1f56e"
      },
      "execution_count": null,
      "outputs": [
        {
          "output_type": "stream",
          "name": "stdout",
          "text": [
            "Hello, world!"
          ]
        }
      ]
    },
    {
      "cell_type": "code",
      "source": [
        "try:\n",
        "    with open(\"example.txt\", \"r\") as file:\n",
        "        for line in file:\n",
        "            print(line, end=\"\")\n",
        "except FileNotFoundError:\n",
        "  print(\"file not found\")"
      ],
      "metadata": {
        "colab": {
          "base_uri": "https://localhost:8080/"
        },
        "id": "2ZgYm-HcoxSk",
        "outputId": "e53b539a-8362-4333-c4b4-5d1540d822de"
      },
      "execution_count": null,
      "outputs": [
        {
          "output_type": "stream",
          "name": "stdout",
          "text": [
            "Hello, world!"
          ]
        }
      ]
    },
    {
      "cell_type": "code",
      "source": [
        "try:\n",
        "    with open(\"example.txt\", \"a\") as file:\n",
        "        for line in file:\n",
        "            print(line, end=\"\")\n",
        "except FileNotFoundError:\n",
        "  print(\"file not found\")\n",
        "except Exception as e:\n",
        "  print(f\"An error occured: {e}\")"
      ],
      "metadata": {
        "id": "WHjU0N6XuKyQ",
        "colab": {
          "base_uri": "https://localhost:8080/"
        },
        "outputId": "f3f74a65-3503-4e94-86f9-eea4eee589dd"
      },
      "execution_count": null,
      "outputs": [
        {
          "output_type": "stream",
          "name": "stdout",
          "text": [
            "An error occured: not readable\n"
          ]
        }
      ]
    },
    {
      "cell_type": "code",
      "source": [
        "try:\n",
        "    with open(input-file, \"r\") as src:\n",
        "      with open(output-file, \"w\") as dest:\n",
        "        for line in src:\n",
        "          dest.write(line)\n",
        "        print(\"file copied successfully\")\n",
        "except FileNotFoundError:\n",
        "  print(\"file not found\")\n",
        "except Exception as e:\n",
        "  print(f\"An error occured: {e}\")"
      ],
      "metadata": {
        "id": "eBszohI4uK4N",
        "colab": {
          "base_uri": "https://localhost:8080/"
        },
        "outputId": "5e4a9fd3-bc99-4fca-90ce-e2b6e459a15e"
      },
      "execution_count": null,
      "outputs": [
        {
          "output_type": "stream",
          "name": "stdout",
          "text": [
            "An error occured: name 'file' is not defined\n"
          ]
        }
      ]
    },
    {
      "cell_type": "code",
      "source": [
        "try:\n",
        "  numerator=10\n",
        "  denominator=0\n",
        "  result=numerator/denominator\n",
        "except ZeroDivisionError:\n",
        "  print(\"cannot divide by zero\")\n",
        "except Exception as e:\n",
        "  print(f\"An error occured: {e}\")"
      ],
      "metadata": {
        "id": "v54O84DauK7a",
        "colab": {
          "base_uri": "https://localhost:8080/"
        },
        "outputId": "4fe14e4c-6b37-404c-d41c-cd3a029d415c"
      },
      "execution_count": null,
      "outputs": [
        {
          "output_type": "stream",
          "name": "stdout",
          "text": [
            "cannot divide by zero\n"
          ]
        }
      ]
    },
    {
      "cell_type": "code",
      "source": [
        "import logging\n",
        "logging.basicConfig(filename=\"error.log\", level=logging.ERROR,\n",
        "                     format=\"%(asctime)s - %(levelname)s - %(message)s\")\n",
        "def divide_numbers(a, b):\n",
        "  try:\n",
        "    result=a/b\n",
        "  except ZeroDivisionError:\n",
        "    logging.error(\"cannot divide by zero\")\n",
        "\n",
        "\n",
        "    return None\n",
        "  else:\n",
        "      return result\n",
        "\n",
        "num1 = 10\n",
        "num2 = 0\n",
        "result = divide_numbers(num1, num2)\n",
        "if result is not None:\n",
        "      print(f\"Result: {result}\")\n",
        "else:\n",
        "      print(\"Division failed\")\n"
      ],
      "metadata": {
        "id": "JSwPv-Y6uK-x",
        "colab": {
          "base_uri": "https://localhost:8080/"
        },
        "outputId": "66c330d4-9328-4c8c-d13a-02bd7736d308"
      },
      "execution_count": null,
      "outputs": [
        {
          "output_type": "stream",
          "name": "stderr",
          "text": [
            "ERROR:root:cannot divide by zero\n"
          ]
        },
        {
          "output_type": "stream",
          "name": "stdout",
          "text": [
            "Division failed\n"
          ]
        }
      ]
    },
    {
      "cell_type": "code",
      "source": [
        "import logging\n",
        "logging.basicConfig(filname=\"app.log\",\n",
        "                    level=logging.DEBUG,\n",
        "                    format='%(asctime)s - %(levelname)s - %(message)s')\n",
        "logging.debug(\"this is my debug log\")\n",
        "logging.info(\"this is my info log\")\n",
        "logging.warning(\"this is my warning log\")\n",
        "logging.error(\"this is my error log\")\n",
        "logging.critical(\"this is my critical log\")"
      ],
      "metadata": {
        "id": "styQAWFquLNR",
        "colab": {
          "base_uri": "https://localhost:8080/"
        },
        "outputId": "445af70c-ae4a-4087-c68d-3ed08fdaf1fe"
      },
      "execution_count": null,
      "outputs": [
        {
          "output_type": "stream",
          "name": "stderr",
          "text": [
            "WARNING:root:this is my warning log\n",
            "ERROR:root:this is my error log\n",
            "CRITICAL:root:this is my critical log\n"
          ]
        }
      ]
    },
    {
      "cell_type": "code",
      "source": [
        "def read_file(filename):\n",
        "  try:\n",
        "    with open(filename, \"r\") as file:\n",
        "      content=file.read()\n",
        "  except FileNotFoundError:\n",
        "    logging.error(f\"file {filename} not found\")\n",
        "  except PermissionError:\n",
        "    print(f\"permission denied to read {filename}\")\n",
        "  except Exception as e:\n",
        "    print(f\"An error occured: {e}\")\n"
      ],
      "metadata": {
        "id": "v30TpGSpuLQF"
      },
      "execution_count": null,
      "outputs": []
    },
    {
      "cell_type": "code",
      "source": [
        "with open(\"example.txt\", \"r\") as file:\n",
        "    line = file.readline()\n",
        "print(line)"
      ],
      "metadata": {
        "id": "s_Rzd-iVuLTp",
        "colab": {
          "base_uri": "https://localhost:8080/"
        },
        "outputId": "8e8ff5b1-ca4a-42f9-e39f-b7b2d3cf159e"
      },
      "execution_count": null,
      "outputs": [
        {
          "output_type": "stream",
          "name": "stdout",
          "text": [
            "\n"
          ]
        }
      ]
    },
    {
      "cell_type": "code",
      "source": [
        "with open(\"example.txt\", \"a\") as file:\n",
        "  file.write(\"\\nthis is a new line added to the file.\")"
      ],
      "metadata": {
        "id": "V7tsGDyguLXE"
      },
      "execution_count": null,
      "outputs": []
    },
    {
      "cell_type": "code",
      "source": [
        "def get_value_from_dict(data, key):\n",
        "  try:\n",
        "    value=data[key]\n",
        "    print(f\"value: {value}\")\n",
        "  except KeyError:\n",
        "    print(f\"key {key} not found in data\")\n",
        "\n",
        "my_dict ={\"name\": \"John\", \"age\": 30, \"city\": \"New York\"}\n",
        "get_value_from_dict(my_dict, \"age\")\n",
        "get_value_from_dict(my_dict, \"country\")"
      ],
      "metadata": {
        "colab": {
          "base_uri": "https://localhost:8080/"
        },
        "id": "CdM7HQoOAr8V",
        "outputId": "36ca977e-7fba-472a-d2b5-7e06abe34975"
      },
      "execution_count": null,
      "outputs": [
        {
          "output_type": "stream",
          "name": "stdout",
          "text": [
            "value: 30\n",
            "key country not found in data\n"
          ]
        }
      ]
    },
    {
      "cell_type": "code",
      "source": [
        "def process_number(num1, num2):\n",
        "  try:\n",
        "    result=num1/num2\n",
        "    print(f\"Result: {result}\")\n",
        "\n",
        "    numbers = [1, 2, 3]\n",
        "    print(numbers[5])\n",
        "  except ZeroDivisionError:\n",
        "    print(\"cannot divide by zero\")\n",
        "  except IndexError:\n",
        "    print(\"index out of range\")\n",
        "  except TypeError:\n",
        "    print(\"unsupported operand type\")\n",
        "  except Exception as e:\n",
        "    print(f\"An error occured: {e}\")"
      ],
      "metadata": {
        "id": "NGxO-6Xj8oS_"
      },
      "execution_count": null,
      "outputs": []
    },
    {
      "cell_type": "code",
      "source": [
        "import os\n",
        "filename = \"example.txt\"\n",
        "if os.path.exists(filename):\n",
        "  with open(filename, \"r\") as file:\n",
        "    content = file.read()\n",
        "    print(content)\n",
        "  print(f\"{filename} exists\")\n",
        "else:\n",
        "  print(f\"{filename} does not exist\")"
      ],
      "metadata": {
        "colab": {
          "base_uri": "https://localhost:8080/"
        },
        "id": "5BVjsc1y8oP4",
        "outputId": "8818f7c5-293a-4d14-8569-535d28490dc9"
      },
      "execution_count": null,
      "outputs": [
        {
          "output_type": "stream",
          "name": "stdout",
          "text": [
            "\n",
            "this is a new line added to the file.\n",
            "example.txt exists\n"
          ]
        }
      ]
    },
    {
      "cell_type": "code",
      "source": [
        "import logging\n",
        "logging.basicConfig(filename=\"app.log\",\n",
        "                    level=logging.DEBUG,\n",
        "                    format='%(asctime)s - %(levelname)s - %(message)s')\n",
        "def divide_numbers(a, b):\n",
        "  try:\n",
        "    logging.info(f\"attampting to divide {a} by {b}\")\n",
        "    result=a/b\n",
        "    logging.info(f\"division successful:{a} / {b} is {result}\")\n",
        "  except ZeroDivisionError:\n",
        "    logging.error(\"cannot divide by zero\")\n",
        "    return None\n",
        "  except Exception as e:\n",
        "    logging.error(f\"An error occured: {e}\")\n",
        "    return None\n",
        "\n",
        "divide_numbers(10, 2)\n",
        "divide_numbers(5, 0)\n",
        "print(\"logging complet. check 'app.log' for details.\")"
      ],
      "metadata": {
        "colab": {
          "base_uri": "https://localhost:8080/"
        },
        "id": "kvPrm_oy8oMx",
        "outputId": "50948c27-ca92-4503-c863-e42bf6b92273"
      },
      "execution_count": null,
      "outputs": [
        {
          "output_type": "stream",
          "name": "stderr",
          "text": [
            "ERROR:root:cannot divide by zero\n"
          ]
        },
        {
          "output_type": "stream",
          "name": "stdout",
          "text": [
            "logging complet. check 'app.log' for details.\n"
          ]
        }
      ]
    },
    {
      "cell_type": "code",
      "source": [
        "import os\n",
        "def read_file(filename):\n",
        "    try:\n",
        "        if os.part.exists(filename):\n",
        "          if os.part.getsize(filename) == 0:\n",
        "            print(f\"{filename} is an empty file\")\n",
        "          else:\n",
        "            with open(filename, \"r\") as file:\n",
        "              content=file.read()\n",
        "              print(f\"content of {filename}:\")\n",
        "              print(content)\n",
        "        else:\n",
        "          print(f\"{filename} does not exist\")\n",
        "    except Exception as e:\n",
        "      print(f\"An error occured: {e}\")"
      ],
      "metadata": {
        "id": "lOhUeLLl8oI4"
      },
      "execution_count": 2,
      "outputs": []
    },
    {
      "cell_type": "code",
      "source": [
        "!pip install memory_profiler\n",
        "\n",
        "from memory_profiler import profile\n",
        "@profile\n",
        "def create_large_list():\n",
        "    large_list=[i for i in range(1000000)]\n",
        "    return sum(large_list)\n",
        "if '_name_'==\"_main_\":\n",
        "    create_large_list()"
      ],
      "metadata": {
        "id": "Lm6zAyRT8oFs",
        "colab": {
          "base_uri": "https://localhost:8080/"
        },
        "outputId": "9692eed1-0e90-4cd7-f670-ac2dbeab1035"
      },
      "execution_count": 6,
      "outputs": [
        {
          "output_type": "stream",
          "name": "stdout",
          "text": [
            "Collecting memory_profiler\n",
            "  Downloading memory_profiler-0.61.0-py3-none-any.whl.metadata (20 kB)\n",
            "Requirement already satisfied: psutil in /usr/local/lib/python3.11/dist-packages (from memory_profiler) (5.9.5)\n",
            "Downloading memory_profiler-0.61.0-py3-none-any.whl (31 kB)\n",
            "Installing collected packages: memory_profiler\n",
            "Successfully installed memory_profiler-0.61.0\n"
          ]
        }
      ]
    },
    {
      "cell_type": "code",
      "source": [
        "def write_numbers_to_file(filename, numbers):\n",
        "  try:\n",
        "    with open(filename, \"w\") as file:\n",
        "      for num in numbers:\n",
        "        file.write(str(num)+\"\\n\")\n",
        "    print(f\"numbers written to {filename} successfully\")\n",
        "  except Exception as e:\n",
        "    print(f\"An error occured: {e}\")\n",
        "numbers_list=list(range(1, 1001))\n",
        "write_numbers_to_file(\"numbers.txt\", numbers_list)"
      ],
      "metadata": {
        "id": "EbSSbHNk8oCd",
        "colab": {
          "base_uri": "https://localhost:8080/"
        },
        "outputId": "dbd03ff7-523d-4954-b339-2d23313a6b8f"
      },
      "execution_count": 7,
      "outputs": [
        {
          "output_type": "stream",
          "name": "stdout",
          "text": [
            "numbers written to numbers.txt successfully\n"
          ]
        }
      ]
    },
    {
      "cell_type": "code",
      "source": [
        "import logging\n",
        "from logging.handlers import RotatingFileHandler\n",
        "log_filename = \"app.log\"\n",
        "handler=RotatingFileHandler(log_filename, maxBytes=1_048_576, backupCount=5)\n",
        "logging.basicConfig(level=logging.DEBUG,\n",
        "                    formate = \"%(asctime)s - %(levelname)s - %(message)s\",\n",
        "                    handlers=[handler])\n",
        "for i in range(100000):\n",
        "  logging.info(f\"this is log number {i}\")"
      ],
      "metadata": {
        "id": "CqBIAT_K8n35"
      },
      "execution_count": 8,
      "outputs": []
    },
    {
      "cell_type": "code",
      "source": [
        "def access_data():\n",
        "  my_list =[10,20,30,40,50]\n",
        "  try:\n",
        "     print(\"list element:\",my_list[5])\n",
        "     print(\"dictionary value:\", my_dict[\"city\"])\n",
        "  except IndexError:\n",
        "    print(\"index out of range\")\n",
        "  except KeyError:\n",
        "    print(\"key not found in dictionary\")\n",
        "  except Exception as e:\n",
        "    print(f\"An error occured: {e}\")\n",
        "access_data()"
      ],
      "metadata": {
        "colab": {
          "base_uri": "https://localhost:8080/"
        },
        "id": "i0LDmwmVv7jC",
        "outputId": "8ca39792-3398-4424-f4a2-24ecc4dd2658"
      },
      "execution_count": 9,
      "outputs": [
        {
          "output_type": "stream",
          "name": "stdout",
          "text": [
            "index out of range\n"
          ]
        }
      ]
    },
    {
      "cell_type": "code",
      "source": [
        "filename = \"example.txt\"\n",
        "try:\n",
        "  with open(filename, \"r\") as file:\n",
        "    content = file.read()\n",
        "    print(\"file contentc:\\n\", content)\n",
        "except FileNotFoundError:\n",
        "  print(f\"{filename} not found\")\n",
        "except Exception as e:\n",
        "  print(f\"An error occured: {e}\")"
      ],
      "metadata": {
        "colab": {
          "base_uri": "https://localhost:8080/"
        },
        "id": "yJR4W790v7Zj",
        "outputId": "57265941-76f3-4124-a6a0-c1a0e5ccfd94"
      },
      "execution_count": 10,
      "outputs": [
        {
          "output_type": "stream",
          "name": "stdout",
          "text": [
            "example.txt not found\n"
          ]
        }
      ]
    },
    {
      "cell_type": "code",
      "source": [
        "def count_word_occurrences(filename, word):\n",
        "  try:\n",
        "    with open(filename, \"r\") as file:\n",
        "      content=file.read().lower()\n",
        "      word_count=content.split(word.lower())\n",
        "      print(f\"the word '{word}' appears {word_count} times in the file.\")\n",
        "  except FileNotFoundError:\n",
        "    print(f\"{filename} not found\")\n",
        "  except Exception as e:\n",
        "    print(f\"An error occured: {e}\")"
      ],
      "metadata": {
        "id": "eWZXYEk8v7WP"
      },
      "execution_count": 11,
      "outputs": []
    },
    {
      "cell_type": "code",
      "source": [
        "import os\n",
        "filename =\"example.txt\"\n",
        "if os.path.exists(filename):\n",
        "  if os.path.getsize(filename)== 0:\n",
        "    print(f\"'{filename}'is empty\")\n",
        "  else:\n",
        "    with open(filename, \"r\") as file:\n",
        "      content=file.read()\n",
        "      print(f\"content of {filename}:\\n{content}\")\n",
        "else:\n",
        "  print(f\"{filename} does not exist\")"
      ],
      "metadata": {
        "colab": {
          "base_uri": "https://localhost:8080/"
        },
        "id": "BcVp9Gnnv7ST",
        "outputId": "796771aa-5f62-456a-9ebe-e5771db825c9"
      },
      "execution_count": 12,
      "outputs": [
        {
          "output_type": "stream",
          "name": "stdout",
          "text": [
            "example.txt does not exist\n"
          ]
        }
      ]
    },
    {
      "cell_type": "code",
      "source": [
        "import logging\n",
        "logging.basicConfig(filename=\"file_errors.log\", level=logging.ERROR,\n",
        "                    format=\"%(asctime)s - %(levelname)s - %(message)s\")\n",
        "def read_file(filename):\n",
        "  try:\n",
        "    with open(filename, \"r\") as file:\n",
        "      content=file.read()\n",
        "      print(f\"content of {filename}:\\n{content}\")\n",
        "  except FileNotFoundError:\n",
        "    logging.error(f\"{filename} not found\")\n",
        "    print(f\"{filename} not found\")\n",
        "  except PermissionError:\n",
        "    logging.error(f\"permission denied to read {filename}\")\n",
        "    print(f\"permission denied to read {filename}\")\n",
        "  except Exception as e:\n",
        "    logging.error(f\"An error occured: {e}\")\n",
        "    print(f\"An error occured: {e}\")\n"
      ],
      "metadata": {
        "id": "AfNZGLk0v7PM"
      },
      "execution_count": 13,
      "outputs": []
    },
    {
      "cell_type": "code",
      "source": [],
      "metadata": {
        "id": "TA4m_EOK8nyX"
      },
      "execution_count": null,
      "outputs": []
    },
    {
      "cell_type": "code",
      "source": [],
      "metadata": {
        "id": "pC08VJvz8nne"
      },
      "execution_count": null,
      "outputs": []
    },
    {
      "cell_type": "code",
      "source": [],
      "metadata": {
        "id": "TFc0MFS28nkY"
      },
      "execution_count": null,
      "outputs": []
    },
    {
      "cell_type": "code",
      "source": [],
      "metadata": {
        "id": "_YsL4zn48ngr"
      },
      "execution_count": null,
      "outputs": []
    },
    {
      "cell_type": "code",
      "source": [],
      "metadata": {
        "id": "cejbdA4u8ndA"
      },
      "execution_count": null,
      "outputs": []
    },
    {
      "cell_type": "markdown",
      "source": [],
      "metadata": {
        "id": "SFGGi1qI8m5K"
      }
    },
    {
      "cell_type": "markdown",
      "source": [],
      "metadata": {
        "id": "u8vQ-GQS8mk8"
      }
    },
    {
      "cell_type": "markdown",
      "source": [],
      "metadata": {
        "id": "NJfJNbWr8mOV"
      }
    }
  ]
}